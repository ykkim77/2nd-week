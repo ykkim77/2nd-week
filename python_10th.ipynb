{
  "nbformat": 4,
  "nbformat_minor": 0,
  "metadata": {
    "colab": {
      "provenance": [],
      "authorship_tag": "ABX9TyPtsbfXflyveJDyp8UOWom7",
      "include_colab_link": true
    },
    "kernelspec": {
      "name": "python3",
      "display_name": "Python 3"
    },
    "language_info": {
      "name": "python"
    }
  },
  "cells": [
    {
      "cell_type": "markdown",
      "metadata": {
        "id": "view-in-github",
        "colab_type": "text"
      },
      "source": [
        "<a href=\"https://colab.research.google.com/github/ykkim77/2nd-week/blob/master/python_10th.ipynb\" target=\"_parent\"><img src=\"https://colab.research.google.com/assets/colab-badge.svg\" alt=\"Open In Colab\"/></a>"
      ]
    },
    {
      "cell_type": "markdown",
      "metadata": {
        "id": "0QeyTt3FwuFn"
      },
      "source": [
        "**클래스의 정의**"
      ]
    },
    {
      "cell_type": "code",
      "metadata": {
        "id": "IvQsXP2hWcu2"
      },
      "source": [
        "class Store:\n",
        "    pass"
      ],
      "execution_count": 46,
      "outputs": []
    },
    {
      "cell_type": "markdown",
      "metadata": {
        "id": "8Gi2D_WVMSaQ"
      },
      "source": [
        "**객체의 생성**"
      ]
    },
    {
      "cell_type": "code",
      "metadata": {
        "id": "exl2wMuuD2Dr"
      },
      "source": [
        "a = Store()\n",
        "b = Store()"
      ],
      "execution_count": 47,
      "outputs": []
    },
    {
      "cell_type": "code",
      "source": [
        "print(a.)\n",
        "print(b.name)"
      ],
      "metadata": {
        "colab": {
          "base_uri": "https://localhost:8080/"
        },
        "id": "Boo_Ubs_XGir",
        "outputId": "5db1b301-9ba4-4e9e-8030-c515823a82fa"
      },
      "execution_count": 44,
      "outputs": [
        {
          "output_type": "stream",
          "name": "stdout",
          "text": [
            "cookie\n",
            "cookie\n"
          ]
        }
      ]
    },
    {
      "cell_type": "markdown",
      "metadata": {
        "id": "6_tUg7bwMh85"
      },
      "source": [
        "**클래스의 구성요소**"
      ]
    },
    {
      "cell_type": "markdown",
      "metadata": {
        "id": "0YRaHbp_NvoP"
      },
      "source": [
        "**메서드와 일반 함수의 비교**"
      ]
    },
    {
      "cell_type": "code",
      "metadata": {
        "id": "5k5xAckFMk1Y"
      },
      "source": [
        "class Store:\n",
        "    kind = \"cookie\"\n",
        "    def store_name(self,name):\n",
        "        self.name = name\n",
        "        print(\"상점 이름은 %s 입니다.\"%self.name)"
      ],
      "execution_count": null,
      "outputs": []
    },
    {
      "cell_type": "code",
      "metadata": {
        "id": "B7PAZPGnMhPA"
      },
      "source": [
        "def store_name(name):\n",
        "    my_name = name\n",
        "    print(\"상점 이름은 %s 입니다.\"%name)\n",
        "\n",
        "store_name(\"맛나쿠키\")"
      ],
      "execution_count": null,
      "outputs": []
    },
    {
      "cell_type": "code",
      "metadata": {
        "id": "m3M1ZVAaI7wY"
      },
      "source": [
        "class Student:\n",
        "    name = \"kim\"\n",
        "\n",
        "    def set_id(self, name):\n",
        "        self.id = id\n",
        "\n",
        "a1 = Student()\n",
        "\n",
        "a1.name= \"paul\"\n",
        "print(a1.name)"
      ],
      "execution_count": null,
      "outputs": []
    },
    {
      "cell_type": "markdown",
      "metadata": {
        "id": "QwZu0EDuyJId"
      },
      "source": [
        "**객체의 생성 및 메서드의 사용**"
      ]
    },
    {
      "cell_type": "markdown",
      "metadata": {
        "id": "Vc2N9vavzFLk"
      },
      "source": [
        "**클래스 변수와 인스턴스 변수의 개념**"
      ]
    },
    {
      "cell_type": "code",
      "metadata": {
        "id": "VF3S0TLSzIBx"
      },
      "source": [
        "class Stock:\n",
        "    market = \"KOSPI\"\n",
        "    composite_stock_price = 3000     # 클래스 변수\n",
        "    def check_market(self, composite_stock_price):\n",
        "        print(self.market)\n",
        "        self.composite_stock_price = composite_stock_price  # 인스턴스 변수 self.composite_stock_price   # 지역변수 composite_stock_price\n",
        "        Stock.composite_stock_price += 1"
      ],
      "execution_count": null,
      "outputs": []
    },
    {
      "cell_type": "code",
      "source": [
        "print(Stock.market)"
      ],
      "metadata": {
        "id": "8WrFIcxMRtOP"
      },
      "execution_count": null,
      "outputs": []
    },
    {
      "cell_type": "code",
      "source": [
        "s1 = Stock()\n",
        "s2 = Stock()\n",
        "s3 = Stock()\n",
        "\n",
        "s1.market = \"KOSPI\"     #kospi\n",
        "s2.market = \"KOSDAQ\"  #kosdaq\n",
        "s3.market = \"DowJones\" #DowJones\n",
        "\n",
        "s1.check_market(3000)\n",
        "s2.check_market(1000)\n",
        "s3.check_market(40000)\n",
        "\n",
        "\n",
        "Stock.market = \"Nasdaq\"\n",
        "Stock.composite_stock_price=20000"
      ],
      "metadata": {
        "id": "XF-oaklJQob9"
      },
      "execution_count": null,
      "outputs": []
    },
    {
      "cell_type": "markdown",
      "metadata": {
        "id": "ZUh5UOW8_ATW"
      },
      "source": [
        "**클래스 변수는 객체간 값이 공유가 가능하다**"
      ]
    },
    {
      "cell_type": "code",
      "metadata": {
        "id": "6-Z2EMl6_FY9"
      },
      "source": [
        "print(Stock.market)\n",
        "print(Stock.composite_stock_price)"
      ],
      "execution_count": null,
      "outputs": []
    },
    {
      "cell_type": "markdown",
      "metadata": {
        "id": "NB9rwR80NknM"
      },
      "source": [
        "**객체 변수는 객체간 값이 공유가 불가능하다**"
      ]
    },
    {
      "cell_type": "code",
      "source": [
        "print(\"s1의 종합주가지수 :\",s1.composite_stock_price)\n",
        "print(\"s2의 종합주가지수 :\",s2.composite_stock_price)\n",
        "print(\"s3의 종합주가지수 :\",s3.composite_stock_price)"
      ],
      "metadata": {
        "id": "1i1tH6r3NdyE"
      },
      "execution_count": null,
      "outputs": []
    },
    {
      "cell_type": "markdown",
      "metadata": {
        "id": "lY4Rnes73aHD"
      },
      "source": [
        "**계산기 클래스 만들기**"
      ]
    },
    {
      "cell_type": "code",
      "metadata": {
        "id": "akKKrcaNXT2S"
      },
      "source": [
        "class FourCal:\n",
        "    num = 0\n",
        "    def setdata(self, first, second):\n",
        "        FourCal.num += 1\n",
        "        self.first = first\n",
        "        self.second = second\n",
        "    def add(self):\n",
        "        result = self.first + self.second\n",
        "        return result\n",
        "    def mul(self):\n",
        "        result = self.first * self.second\n",
        "        return result\n",
        "    def sub(self):\n",
        "        result = self.first - self.second\n",
        "        return result\n",
        "    def div(self):\n",
        "        result = self.first / self.second\n",
        "        return result\n"
      ],
      "execution_count": null,
      "outputs": []
    },
    {
      "cell_type": "code",
      "metadata": {
        "id": "9sNK5fy04sL1"
      },
      "source": [
        "a = FourCal()\n",
        "b = FourCal()\n",
        "a.setdata(4, 2)\n",
        "b.setdata(3, 8)\n",
        "\n",
        "print(\"a.add() = \",a.add())\n",
        "print(\"a.mul() = \",a.mul())\n",
        "print(\"a.sub() = \",a.sub())\n",
        "print(\"a.div() = \",a.div())\n",
        "print(\"b.add() = \",b.add())\n",
        "print(\"b.mul() = \",b.mul())\n",
        "print(\"b.sub() = \",b.sub())\n",
        "print(\"b.div() = \",b.div())"
      ],
      "execution_count": null,
      "outputs": []
    }
  ]
}